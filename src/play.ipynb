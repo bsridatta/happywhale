{
 "cells": [
  {
   "cell_type": "code",
   "execution_count": 2,
   "metadata": {},
   "outputs": [],
   "source": [
    "import torch\n",
    "import pandas as pd\n",
    "import numpy as np"
   ]
  },
  {
   "cell_type": "code",
   "execution_count": 3,
   "metadata": {},
   "outputs": [
    {
     "name": "stdout",
     "output_type": "stream",
     "text": [
      "(27956, 5)\n",
      "(27956, 5)\n"
     ]
    }
   ],
   "source": [
    "distances = torch.load(\"../ckpts/distances (3).pt\")\n",
    "indices = torch.load(\"../ckpts/indices (3).pt\")\n",
    "print(distances.shape)\n",
    "print(indices.shape)\n",
    "\n",
    "meta = pd.read_csv(\"../../data/train_equal_species_ids.csv\")\n",
    "sample_submission = pd.read_csv(\"../../data/sample_submission.csv\")"
   ]
  },
  {
   "cell_type": "code",
   "execution_count": 4,
   "metadata": {},
   "outputs": [],
   "source": [
    "# torch predictions to pandas\n",
    "pred = pd.DataFrame(indices)\n",
    "# make indicies of the embeddings to corresponding id\n",
    "pred = pred.applymap(lambda x: meta.iloc[x]['individual_id'])\n",
    "# add test image col\n",
    "pred['image'] = sample_submission['image']\n"
   ]
  },
  {
   "cell_type": "code",
   "execution_count": 5,
   "metadata": {},
   "outputs": [],
   "source": [
    "# make predictions to one space seperated col\n",
    "pred['predictions'] = pred[[0,1,2,3,4]].agg(\" \".join, axis=1)"
   ]
  },
  {
   "cell_type": "code",
   "execution_count": 7,
   "metadata": {},
   "outputs": [],
   "source": [
    "pred[['image', 'predictions']].to_csv('../ckpts/submission.csv', index=False)"
   ]
  },
  {
   "cell_type": "code",
   "execution_count": 8,
   "metadata": {},
   "outputs": [
    {
     "data": {
      "text/html": [
       "<div>\n",
       "<style scoped>\n",
       "    .dataframe tbody tr th:only-of-type {\n",
       "        vertical-align: middle;\n",
       "    }\n",
       "\n",
       "    .dataframe tbody tr th {\n",
       "        vertical-align: top;\n",
       "    }\n",
       "\n",
       "    .dataframe thead th {\n",
       "        text-align: right;\n",
       "    }\n",
       "</style>\n",
       "<table border=\"1\" class=\"dataframe\">\n",
       "  <thead>\n",
       "    <tr style=\"text-align: right;\">\n",
       "      <th></th>\n",
       "      <th>0</th>\n",
       "      <th>1</th>\n",
       "      <th>2</th>\n",
       "      <th>3</th>\n",
       "      <th>4</th>\n",
       "      <th>image</th>\n",
       "      <th>predictions</th>\n",
       "    </tr>\n",
       "  </thead>\n",
       "  <tbody>\n",
       "    <tr>\n",
       "      <th>0</th>\n",
       "      <td>50818c5b1202</td>\n",
       "      <td>25a6b2ac9582</td>\n",
       "      <td>778419da2957</td>\n",
       "      <td>aff93d9d3356</td>\n",
       "      <td>208b91b1ca2b</td>\n",
       "      <td>000110707af0ba.jpg</td>\n",
       "      <td>50818c5b1202 25a6b2ac9582 778419da2957 aff93d9...</td>\n",
       "    </tr>\n",
       "    <tr>\n",
       "      <th>1</th>\n",
       "      <td>50818c5b1202</td>\n",
       "      <td>778419da2957</td>\n",
       "      <td>2c45eacc8a8f</td>\n",
       "      <td>0e4660baf3f1</td>\n",
       "      <td>a6e325d8e924</td>\n",
       "      <td>0006287ec424cb.jpg</td>\n",
       "      <td>50818c5b1202 778419da2957 2c45eacc8a8f 0e4660b...</td>\n",
       "    </tr>\n",
       "    <tr>\n",
       "      <th>2</th>\n",
       "      <td>cb0fed574200</td>\n",
       "      <td>122dc7f46c24</td>\n",
       "      <td>a1cb1587e405</td>\n",
       "      <td>989563596678</td>\n",
       "      <td>d218dff09dab</td>\n",
       "      <td>000809ecb2ccad.jpg</td>\n",
       "      <td>cb0fed574200 122dc7f46c24 a1cb1587e405 9895635...</td>\n",
       "    </tr>\n",
       "    <tr>\n",
       "      <th>3</th>\n",
       "      <td>1a20c92ffe68</td>\n",
       "      <td>bbeac4b2964e</td>\n",
       "      <td>91ed5caeb0d3</td>\n",
       "      <td>1492507238d8</td>\n",
       "      <td>bbeac4b2964e</td>\n",
       "      <td>00098d1376dab2.jpg</td>\n",
       "      <td>1a20c92ffe68 bbeac4b2964e 91ed5caeb0d3 1492507...</td>\n",
       "    </tr>\n",
       "    <tr>\n",
       "      <th>4</th>\n",
       "      <td>1e68701cc439</td>\n",
       "      <td>52f982a78a47</td>\n",
       "      <td>ea0b492885b0</td>\n",
       "      <td>39f4fb71b739</td>\n",
       "      <td>de917b1c85ba</td>\n",
       "      <td>000b8d89c738bd.jpg</td>\n",
       "      <td>1e68701cc439 52f982a78a47 ea0b492885b0 39f4fb7...</td>\n",
       "    </tr>\n",
       "    <tr>\n",
       "      <th>...</th>\n",
       "      <td>...</td>\n",
       "      <td>...</td>\n",
       "      <td>...</td>\n",
       "      <td>...</td>\n",
       "      <td>...</td>\n",
       "      <td>...</td>\n",
       "      <td>...</td>\n",
       "    </tr>\n",
       "    <tr>\n",
       "      <th>27951</th>\n",
       "      <td>2c45eacc8a8f</td>\n",
       "      <td>50818c5b1202</td>\n",
       "      <td>208b91b1ca2b</td>\n",
       "      <td>778419da2957</td>\n",
       "      <td>daa006a682c7</td>\n",
       "      <td>fff6ff1989b5cd.jpg</td>\n",
       "      <td>2c45eacc8a8f 50818c5b1202 208b91b1ca2b 778419d...</td>\n",
       "    </tr>\n",
       "    <tr>\n",
       "      <th>27952</th>\n",
       "      <td>1e68701cc439</td>\n",
       "      <td>aca430d73cdc</td>\n",
       "      <td>2aa3e856e46e</td>\n",
       "      <td>39f4fb71b739</td>\n",
       "      <td>de917b1c85ba</td>\n",
       "      <td>fff8fd932b42cb.jpg</td>\n",
       "      <td>1e68701cc439 aca430d73cdc 2aa3e856e46e 39f4fb7...</td>\n",
       "    </tr>\n",
       "    <tr>\n",
       "      <th>27953</th>\n",
       "      <td>a1cb1587e405</td>\n",
       "      <td>50818c5b1202</td>\n",
       "      <td>aff93d9d3356</td>\n",
       "      <td>989563596678</td>\n",
       "      <td>f2ddd02312a7</td>\n",
       "      <td>fff96371332c16.jpg</td>\n",
       "      <td>a1cb1587e405 50818c5b1202 aff93d9d3356 9895635...</td>\n",
       "    </tr>\n",
       "    <tr>\n",
       "      <th>27954</th>\n",
       "      <td>208b91b1ca2b</td>\n",
       "      <td>50818c5b1202</td>\n",
       "      <td>778419da2957</td>\n",
       "      <td>0e4660baf3f1</td>\n",
       "      <td>a6e325d8e924</td>\n",
       "      <td>fffc1c4d3eabc7.jpg</td>\n",
       "      <td>208b91b1ca2b 50818c5b1202 778419da2957 0e4660b...</td>\n",
       "    </tr>\n",
       "    <tr>\n",
       "      <th>27955</th>\n",
       "      <td>208b91b1ca2b</td>\n",
       "      <td>daa006a682c7</td>\n",
       "      <td>2c45eacc8a8f</td>\n",
       "      <td>956562ff2888</td>\n",
       "      <td>778419da2957</td>\n",
       "      <td>fffc50be10c175.jpg</td>\n",
       "      <td>208b91b1ca2b daa006a682c7 2c45eacc8a8f 956562f...</td>\n",
       "    </tr>\n",
       "  </tbody>\n",
       "</table>\n",
       "<p>27956 rows × 7 columns</p>\n",
       "</div>"
      ],
      "text/plain": [
       "                  0             1             2             3             4  \\\n",
       "0      50818c5b1202  25a6b2ac9582  778419da2957  aff93d9d3356  208b91b1ca2b   \n",
       "1      50818c5b1202  778419da2957  2c45eacc8a8f  0e4660baf3f1  a6e325d8e924   \n",
       "2      cb0fed574200  122dc7f46c24  a1cb1587e405  989563596678  d218dff09dab   \n",
       "3      1a20c92ffe68  bbeac4b2964e  91ed5caeb0d3  1492507238d8  bbeac4b2964e   \n",
       "4      1e68701cc439  52f982a78a47  ea0b492885b0  39f4fb71b739  de917b1c85ba   \n",
       "...             ...           ...           ...           ...           ...   \n",
       "27951  2c45eacc8a8f  50818c5b1202  208b91b1ca2b  778419da2957  daa006a682c7   \n",
       "27952  1e68701cc439  aca430d73cdc  2aa3e856e46e  39f4fb71b739  de917b1c85ba   \n",
       "27953  a1cb1587e405  50818c5b1202  aff93d9d3356  989563596678  f2ddd02312a7   \n",
       "27954  208b91b1ca2b  50818c5b1202  778419da2957  0e4660baf3f1  a6e325d8e924   \n",
       "27955  208b91b1ca2b  daa006a682c7  2c45eacc8a8f  956562ff2888  778419da2957   \n",
       "\n",
       "                    image                                        predictions  \n",
       "0      000110707af0ba.jpg  50818c5b1202 25a6b2ac9582 778419da2957 aff93d9...  \n",
       "1      0006287ec424cb.jpg  50818c5b1202 778419da2957 2c45eacc8a8f 0e4660b...  \n",
       "2      000809ecb2ccad.jpg  cb0fed574200 122dc7f46c24 a1cb1587e405 9895635...  \n",
       "3      00098d1376dab2.jpg  1a20c92ffe68 bbeac4b2964e 91ed5caeb0d3 1492507...  \n",
       "4      000b8d89c738bd.jpg  1e68701cc439 52f982a78a47 ea0b492885b0 39f4fb7...  \n",
       "...                   ...                                                ...  \n",
       "27951  fff6ff1989b5cd.jpg  2c45eacc8a8f 50818c5b1202 208b91b1ca2b 778419d...  \n",
       "27952  fff8fd932b42cb.jpg  1e68701cc439 aca430d73cdc 2aa3e856e46e 39f4fb7...  \n",
       "27953  fff96371332c16.jpg  a1cb1587e405 50818c5b1202 aff93d9d3356 9895635...  \n",
       "27954  fffc1c4d3eabc7.jpg  208b91b1ca2b 50818c5b1202 778419da2957 0e4660b...  \n",
       "27955  fffc50be10c175.jpg  208b91b1ca2b daa006a682c7 2c45eacc8a8f 956562f...  \n",
       "\n",
       "[27956 rows x 7 columns]"
      ]
     },
     "execution_count": 8,
     "metadata": {},
     "output_type": "execute_result"
    }
   ],
   "source": [
    "pred"
   ]
  },
  {
   "cell_type": "code",
   "execution_count": 20,
   "metadata": {},
   "outputs": [
    {
     "data": {
      "text/plain": [
       "7070"
      ]
     },
     "execution_count": 20,
     "metadata": {},
     "output_type": "execute_result"
    }
   ],
   "source": [
    "len(np.unique(indices))"
   ]
  },
  {
   "cell_type": "code",
   "execution_count": 4,
   "metadata": {},
   "outputs": [],
   "source": [
    "ref = torch.load(\"../ckpts/reference_embeddings.pt\")\n",
    "q = torch.load(\"../ckpts/query_embeddings.pt\")"
   ]
  },
  {
   "cell_type": "code",
   "execution_count": 3,
   "metadata": {},
   "outputs": [],
   "source": [
    "import torch\n",
    "import faiss\n",
    "from pytorch_metric_learning.utils.accuracy_calculator import AccuracyCalculator"
   ]
  },
  {
   "cell_type": "code",
   "execution_count": 5,
   "metadata": {},
   "outputs": [],
   "source": [
    "index = faiss.IndexFlatIP(512)"
   ]
  },
  {
   "cell_type": "code",
   "execution_count": 7,
   "metadata": {},
   "outputs": [],
   "source": [
    "index.add(ref[:3].float().numpy())"
   ]
  },
  {
   "cell_type": "code",
   "execution_count": 2,
   "metadata": {},
   "outputs": [
    {
     "ename": "NameError",
     "evalue": "name 'index' is not defined",
     "output_type": "error",
     "traceback": [
      "\u001b[0;31m---------------------------------------------------------------------------\u001b[0m",
      "\u001b[0;31mNameError\u001b[0m                                 Traceback (most recent call last)",
      "\u001b[1;32m/Users/sridattabudaraju/lab/happywhale/src/play.ipynb Cell 1'\u001b[0m in \u001b[0;36m<module>\u001b[0;34m\u001b[0m\n\u001b[0;32m----> <a href='vscode-notebook-cell:/Users/sridattabudaraju/lab/happywhale/src/play.ipynb#ch0000000?line=0'>1</a>\u001b[0m dist, ind \u001b[39m=\u001b[39m index\u001b[39m.\u001b[39msearch(q[:\u001b[39m3\u001b[39m]\u001b[39m.\u001b[39mfloat()\u001b[39m.\u001b[39mnumpy(), \u001b[39m5\u001b[39m)\n",
      "\u001b[0;31mNameError\u001b[0m: name 'index' is not defined"
     ]
    }
   ],
   "source": [
    "dist, ind = index.search(q[:3].float().numpy(), 5)"
   ]
  },
  {
   "cell_type": "code",
   "execution_count": 1,
   "metadata": {},
   "outputs": [
    {
     "ename": "NameError",
     "evalue": "name 'dist' is not defined",
     "output_type": "error",
     "traceback": [
      "\u001b[0;31m---------------------------------------------------------------------------\u001b[0m",
      "\u001b[0;31mNameError\u001b[0m                                 Traceback (most recent call last)",
      "\u001b[1;32m/Users/sridattabudaraju/lab/happywhale/src/play.ipynb Cell 4'\u001b[0m in \u001b[0;36m<module>\u001b[0;34m\u001b[0m\n\u001b[0;32m----> <a href='vscode-notebook-cell:/Users/sridattabudaraju/lab/happywhale/src/play.ipynb#ch0000003?line=0'>1</a>\u001b[0m dist\n",
      "\u001b[0;31mNameError\u001b[0m: name 'dist' is not defined"
     ]
    }
   ],
   "source": [
    "dist"
   ]
  },
  {
   "cell_type": "code",
   "execution_count": 8,
   "metadata": {},
   "outputs": [
    {
     "data": {
      "text/plain": [
       "tensor([[0.0000, 0.0000, 0.1169,  ..., 0.0000, 0.0000, 0.0000],\n",
       "        [0.0000, 0.0000, 0.0000,  ..., 1.7100, 0.4736, 0.0000],\n",
       "        [1.0742, 0.0000, 0.0000,  ..., 0.4871, 0.0000, 0.4663]])"
      ]
     },
     "execution_count": 8,
     "metadata": {},
     "output_type": "execute_result"
    }
   ],
   "source": [
    "ref[:3].float()"
   ]
  },
  {
   "cell_type": "code",
   "execution_count": 19,
   "metadata": {},
   "outputs": [
    {
     "data": {
      "text/plain": [
       "[<matplotlib.lines.Line2D at 0x177e98490>]"
      ]
     },
     "execution_count": 19,
     "metadata": {},
     "output_type": "execute_result"
    },
    {
     "data": {
      "image/png": "[encoded data removed]",
      "text/plain": [
       "<Figure size 432x288 with 1 Axes>"
      ]
     },
     "metadata": {
      "needs_background": "light"
     },
     "output_type": "display_data"
    }
   ],
   "source": [
    "\n",
    "import torch\n",
    "import matplotlib.pyplot as plt\n",
    "\n",
    "model = torch.nn.Linear(2, 1)\n",
    "optimizer = torch.optim.SGD(model.parameters(), lr=100)\n",
    "scheduler = torch.optim.lr_scheduler.OneCycleLR(optimizer, max_lr=0.05, epochs=10, steps_per_epoch=1)\n",
    "# steps_per_epoch=,\n",
    "\n",
    "\n",
    "lrs = []\n",
    "\n",
    "for i in range(10):\n",
    "    optimizer.step()\n",
    "    lrs.append(optimizer.param_groups[0][\"lr\"])\n",
    "#     print(\"Factor = \", round(0.65 ** i,3),\" , Learning Rate = \",round(optimizer.param_groups[0][\"lr\"],3))\n",
    "    scheduler.step()\n",
    "\n",
    "plt.plot(range(10),lrs)"
   ]
  },
  {
   "cell_type": "code",
   "execution_count": null,
   "metadata": {},
   "outputs": [],
   "source": []
  }
 ],
 "metadata": {
  "interpreter": {
   "hash": "8ff90b7467efba29adad4c428f30fc97df3bd261ce7bef875145cebf7b584f4d"
  },
  "kernelspec": {
   "display_name": "Python 3.8.12 ('kaggle')",
   "language": "python",
   "name": "python3"
  },
  "language_info": {
   "codemirror_mode": {
    "name": "ipython",
    "version": 3
   },
   "file_extension": ".py",
   "mimetype": "text/x-python",
   "name": "python",
   "nbconvert_exporter": "python",
   "pygments_lexer": "ipython3",
   "version": "3.8.12"
  },
  "orig_nbformat": 4
 },
 "nbformat": 4,
 "nbformat_minor": 2
}
