{
 "cells": [
  {
   "cell_type": "code",
   "execution_count": 18,
   "metadata": {},
   "outputs": [],
   "source": [
    "import torch\n",
    "import pandas as pd\n",
    "import numpy as np"
   ]
  },
  {
   "cell_type": "code",
   "execution_count": 8,
   "metadata": {},
   "outputs": [
    {
     "name": "stdout",
     "output_type": "stream",
     "text": [
      "(27956, 5)\n",
      "(27956, 5)\n"
     ]
    }
   ],
   "source": [
    "distances = torch.load(\"../ckpts/distances.pt\")\n",
    "indices = torch.load(\"../ckpts/indices.pt\")\n",
    "print(distances.shape)\n",
    "print(indices.shape)\n",
    "\n",
    "meta = pd.read_csv(\"../../data/train_equal_species_ids.csv\")\n",
    "sample_submission = pd.read_csv(\"../../data/sample_submission.csv\")"
   ]
  },
  {
   "cell_type": "code",
   "execution_count": 10,
   "metadata": {},
   "outputs": [],
   "source": [
    "# torch predictions to pandas\n",
    "pred = pd.DataFrame(indices)\n",
    "# make indicies of the embeddings to corresponding id\n",
    "pred = pred.applymap(lambda x: meta.iloc[x]['individual_id'])\n",
    "# add test image col\n",
    "pred['image'] = sample_submission['image']\n"
   ]
  },
  {
   "cell_type": "code",
   "execution_count": 12,
   "metadata": {},
   "outputs": [],
   "source": [
    "# make predictions to one space seperated col\n",
    "pred['predictions'] = pred[[0,1,2,3,4]].agg(\" \".join, axis=1)"
   ]
  },
  {
   "cell_type": "code",
   "execution_count": 15,
   "metadata": {},
   "outputs": [],
   "source": [
    "pred[['image', 'predictions']].to_csv('submission.csv', index=False)"
   ]
  },
  {
   "cell_type": "code",
   "execution_count": 13,
   "metadata": {},
   "outputs": [
    {
     "data": {
      "text/html": [
       "<div>\n",
       "<style scoped>\n",
       "    .dataframe tbody tr th:only-of-type {\n",
       "        vertical-align: middle;\n",
       "    }\n",
       "\n",
       "    .dataframe tbody tr th {\n",
       "        vertical-align: top;\n",
       "    }\n",
       "\n",
       "    .dataframe thead th {\n",
       "        text-align: right;\n",
       "    }\n",
       "</style>\n",
       "<table border=\"1\" class=\"dataframe\">\n",
       "  <thead>\n",
       "    <tr style=\"text-align: right;\">\n",
       "      <th></th>\n",
       "      <th>0</th>\n",
       "      <th>1</th>\n",
       "      <th>2</th>\n",
       "      <th>3</th>\n",
       "      <th>4</th>\n",
       "      <th>image</th>\n",
       "      <th>predictions</th>\n",
       "    </tr>\n",
       "  </thead>\n",
       "  <tbody>\n",
       "    <tr>\n",
       "      <th>0</th>\n",
       "      <td>fbe2b15b5481</td>\n",
       "      <td>fbe2b15b5481</td>\n",
       "      <td>fbe2b15b5481</td>\n",
       "      <td>613d4dd25716</td>\n",
       "      <td>a8c9dfb8ac6f</td>\n",
       "      <td>000110707af0ba.jpg</td>\n",
       "      <td>fbe2b15b5481 fbe2b15b5481 fbe2b15b5481 613d4dd...</td>\n",
       "    </tr>\n",
       "    <tr>\n",
       "      <th>1</th>\n",
       "      <td>394e6fdcb870</td>\n",
       "      <td>caee7717cf57</td>\n",
       "      <td>1816cc1ae38b</td>\n",
       "      <td>bf412253bbc2</td>\n",
       "      <td>0dc46d44551e</td>\n",
       "      <td>0006287ec424cb.jpg</td>\n",
       "      <td>394e6fdcb870 caee7717cf57 1816cc1ae38b bf41225...</td>\n",
       "    </tr>\n",
       "    <tr>\n",
       "      <th>2</th>\n",
       "      <td>5795d26994d5</td>\n",
       "      <td>322a18725969</td>\n",
       "      <td>d322fe55b12e</td>\n",
       "      <td>0d1fc7321521</td>\n",
       "      <td>322a18725969</td>\n",
       "      <td>000809ecb2ccad.jpg</td>\n",
       "      <td>5795d26994d5 322a18725969 d322fe55b12e 0d1fc73...</td>\n",
       "    </tr>\n",
       "    <tr>\n",
       "      <th>3</th>\n",
       "      <td>a2e4dcc14c5e</td>\n",
       "      <td>bc1eb2241633</td>\n",
       "      <td>02947a94c3fc</td>\n",
       "      <td>626fc1a305f3</td>\n",
       "      <td>812be36c2aef</td>\n",
       "      <td>00098d1376dab2.jpg</td>\n",
       "      <td>a2e4dcc14c5e bc1eb2241633 02947a94c3fc 626fc1a...</td>\n",
       "    </tr>\n",
       "    <tr>\n",
       "      <th>4</th>\n",
       "      <td>447eb1e41b20</td>\n",
       "      <td>78da3fdee9c2</td>\n",
       "      <td>a16b1ac4fa86</td>\n",
       "      <td>cef36f5c5ed4</td>\n",
       "      <td>7dcc7976f08b</td>\n",
       "      <td>000b8d89c738bd.jpg</td>\n",
       "      <td>447eb1e41b20 78da3fdee9c2 a16b1ac4fa86 cef36f5...</td>\n",
       "    </tr>\n",
       "    <tr>\n",
       "      <th>...</th>\n",
       "      <td>...</td>\n",
       "      <td>...</td>\n",
       "      <td>...</td>\n",
       "      <td>...</td>\n",
       "      <td>...</td>\n",
       "      <td>...</td>\n",
       "      <td>...</td>\n",
       "    </tr>\n",
       "    <tr>\n",
       "      <th>27951</th>\n",
       "      <td>445270d9ad52</td>\n",
       "      <td>b61c15e89c3c</td>\n",
       "      <td>445270d9ad52</td>\n",
       "      <td>e8ac23241df5</td>\n",
       "      <td>90cfd1801b72</td>\n",
       "      <td>fff6ff1989b5cd.jpg</td>\n",
       "      <td>445270d9ad52 b61c15e89c3c 445270d9ad52 e8ac232...</td>\n",
       "    </tr>\n",
       "    <tr>\n",
       "      <th>27952</th>\n",
       "      <td>faf8fae02f01</td>\n",
       "      <td>aa181a360dac</td>\n",
       "      <td>c578a7034c15</td>\n",
       "      <td>180b8fbe180d</td>\n",
       "      <td>be7efd8e25b5</td>\n",
       "      <td>fff8fd932b42cb.jpg</td>\n",
       "      <td>faf8fae02f01 aa181a360dac c578a7034c15 180b8fb...</td>\n",
       "    </tr>\n",
       "    <tr>\n",
       "      <th>27953</th>\n",
       "      <td>4e0949156bd7</td>\n",
       "      <td>dba4e482f0ad</td>\n",
       "      <td>5dc6032fca87</td>\n",
       "      <td>cb0fed574200</td>\n",
       "      <td>31f748b822f4</td>\n",
       "      <td>fff96371332c16.jpg</td>\n",
       "      <td>4e0949156bd7 dba4e482f0ad 5dc6032fca87 cb0fed5...</td>\n",
       "    </tr>\n",
       "    <tr>\n",
       "      <th>27954</th>\n",
       "      <td>362fa1cf5553</td>\n",
       "      <td>36fdfe6f1d22</td>\n",
       "      <td>b5a0094b63a3</td>\n",
       "      <td>53cb7cc3b0af</td>\n",
       "      <td>e7730391dd45</td>\n",
       "      <td>fffc1c4d3eabc7.jpg</td>\n",
       "      <td>362fa1cf5553 36fdfe6f1d22 b5a0094b63a3 53cb7cc...</td>\n",
       "    </tr>\n",
       "    <tr>\n",
       "      <th>27955</th>\n",
       "      <td>b75810d6e594</td>\n",
       "      <td>783f357cf2f9</td>\n",
       "      <td>2342e3a79564</td>\n",
       "      <td>e82d2855809d</td>\n",
       "      <td>e33a507393ca</td>\n",
       "      <td>fffc50be10c175.jpg</td>\n",
       "      <td>b75810d6e594 783f357cf2f9 2342e3a79564 e82d285...</td>\n",
       "    </tr>\n",
       "  </tbody>\n",
       "</table>\n",
       "<p>27956 rows × 7 columns</p>\n",
       "</div>"
      ],
      "text/plain": [
       "                  0             1             2             3             4  \\\n",
       "0      fbe2b15b5481  fbe2b15b5481  fbe2b15b5481  613d4dd25716  a8c9dfb8ac6f   \n",
       "1      394e6fdcb870  caee7717cf57  1816cc1ae38b  bf412253bbc2  0dc46d44551e   \n",
       "2      5795d26994d5  322a18725969  d322fe55b12e  0d1fc7321521  322a18725969   \n",
       "3      a2e4dcc14c5e  bc1eb2241633  02947a94c3fc  626fc1a305f3  812be36c2aef   \n",
       "4      447eb1e41b20  78da3fdee9c2  a16b1ac4fa86  cef36f5c5ed4  7dcc7976f08b   \n",
       "...             ...           ...           ...           ...           ...   \n",
       "27951  445270d9ad52  b61c15e89c3c  445270d9ad52  e8ac23241df5  90cfd1801b72   \n",
       "27952  faf8fae02f01  aa181a360dac  c578a7034c15  180b8fbe180d  be7efd8e25b5   \n",
       "27953  4e0949156bd7  dba4e482f0ad  5dc6032fca87  cb0fed574200  31f748b822f4   \n",
       "27954  362fa1cf5553  36fdfe6f1d22  b5a0094b63a3  53cb7cc3b0af  e7730391dd45   \n",
       "27955  b75810d6e594  783f357cf2f9  2342e3a79564  e82d2855809d  e33a507393ca   \n",
       "\n",
       "                    image                                        predictions  \n",
       "0      000110707af0ba.jpg  fbe2b15b5481 fbe2b15b5481 fbe2b15b5481 613d4dd...  \n",
       "1      0006287ec424cb.jpg  394e6fdcb870 caee7717cf57 1816cc1ae38b bf41225...  \n",
       "2      000809ecb2ccad.jpg  5795d26994d5 322a18725969 d322fe55b12e 0d1fc73...  \n",
       "3      00098d1376dab2.jpg  a2e4dcc14c5e bc1eb2241633 02947a94c3fc 626fc1a...  \n",
       "4      000b8d89c738bd.jpg  447eb1e41b20 78da3fdee9c2 a16b1ac4fa86 cef36f5...  \n",
       "...                   ...                                                ...  \n",
       "27951  fff6ff1989b5cd.jpg  445270d9ad52 b61c15e89c3c 445270d9ad52 e8ac232...  \n",
       "27952  fff8fd932b42cb.jpg  faf8fae02f01 aa181a360dac c578a7034c15 180b8fb...  \n",
       "27953  fff96371332c16.jpg  4e0949156bd7 dba4e482f0ad 5dc6032fca87 cb0fed5...  \n",
       "27954  fffc1c4d3eabc7.jpg  362fa1cf5553 36fdfe6f1d22 b5a0094b63a3 53cb7cc...  \n",
       "27955  fffc50be10c175.jpg  b75810d6e594 783f357cf2f9 2342e3a79564 e82d285...  \n",
       "\n",
       "[27956 rows x 7 columns]"
      ]
     },
     "execution_count": 13,
     "metadata": {},
     "output_type": "execute_result"
    }
   ],
   "source": [
    "pred"
   ]
  },
  {
   "cell_type": "code",
   "execution_count": 20,
   "metadata": {},
   "outputs": [
    {
     "data": {
      "text/plain": [
       "7070"
      ]
     },
     "execution_count": 20,
     "metadata": {},
     "output_type": "execute_result"
    }
   ],
   "source": [
    "len(np.unique(indices))"
   ]
  },
  {
   "cell_type": "code",
   "execution_count": 4,
   "metadata": {},
   "outputs": [],
   "source": [
    "ref = torch.load(\"../ckpts/reference_embeddings.pt\")\n",
    "q = torch.load(\"../ckpts/query_embeddings.pt\")"
   ]
  },
  {
   "cell_type": "code",
   "execution_count": 3,
   "metadata": {},
   "outputs": [],
   "source": [
    "import torch\n",
    "import faiss\n",
    "from pytorch_metric_learning.utils.accuracy_calculator import AccuracyCalculator"
   ]
  },
  {
   "cell_type": "code",
   "execution_count": 5,
   "metadata": {},
   "outputs": [],
   "source": [
    "index = faiss.IndexFlatIP(512)"
   ]
  },
  {
   "cell_type": "code",
   "execution_count": 7,
   "metadata": {},
   "outputs": [],
   "source": [
    "index.add(ref[:3].float().numpy())"
   ]
  },
  {
   "cell_type": "code",
   "execution_count": 2,
   "metadata": {},
   "outputs": [
    {
     "ename": "NameError",
     "evalue": "name 'index' is not defined",
     "output_type": "error",
     "traceback": [
      "\u001b[0;31m---------------------------------------------------------------------------\u001b[0m",
      "\u001b[0;31mNameError\u001b[0m                                 Traceback (most recent call last)",
      "\u001b[1;32m/Users/sridattabudaraju/lab/happywhale/src/play.ipynb Cell 1'\u001b[0m in \u001b[0;36m<module>\u001b[0;34m\u001b[0m\n\u001b[0;32m----> <a href='vscode-notebook-cell:/Users/sridattabudaraju/lab/happywhale/src/play.ipynb#ch0000000?line=0'>1</a>\u001b[0m dist, ind \u001b[39m=\u001b[39m index\u001b[39m.\u001b[39msearch(q[:\u001b[39m3\u001b[39m]\u001b[39m.\u001b[39mfloat()\u001b[39m.\u001b[39mnumpy(), \u001b[39m5\u001b[39m)\n",
      "\u001b[0;31mNameError\u001b[0m: name 'index' is not defined"
     ]
    }
   ],
   "source": [
    "dist, ind = index.search(q[:3].float().numpy(), 5)"
   ]
  },
  {
   "cell_type": "code",
   "execution_count": 1,
   "metadata": {},
   "outputs": [
    {
     "ename": "NameError",
     "evalue": "name 'dist' is not defined",
     "output_type": "error",
     "traceback": [
      "\u001b[0;31m---------------------------------------------------------------------------\u001b[0m",
      "\u001b[0;31mNameError\u001b[0m                                 Traceback (most recent call last)",
      "\u001b[1;32m/Users/sridattabudaraju/lab/happywhale/src/play.ipynb Cell 4'\u001b[0m in \u001b[0;36m<module>\u001b[0;34m\u001b[0m\n\u001b[0;32m----> <a href='vscode-notebook-cell:/Users/sridattabudaraju/lab/happywhale/src/play.ipynb#ch0000003?line=0'>1</a>\u001b[0m dist\n",
      "\u001b[0;31mNameError\u001b[0m: name 'dist' is not defined"
     ]
    }
   ],
   "source": [
    "dist"
   ]
  },
  {
   "cell_type": "code",
   "execution_count": 8,
   "metadata": {},
   "outputs": [
    {
     "data": {
      "text/plain": [
       "tensor([[0.0000, 0.0000, 0.1169,  ..., 0.0000, 0.0000, 0.0000],\n",
       "        [0.0000, 0.0000, 0.0000,  ..., 1.7100, 0.4736, 0.0000],\n",
       "        [1.0742, 0.0000, 0.0000,  ..., 0.4871, 0.0000, 0.4663]])"
      ]
     },
     "execution_count": 8,
     "metadata": {},
     "output_type": "execute_result"
    }
   ],
   "source": [
    "ref[:3].float()"
   ]
  },
  {
   "cell_type": "code",
   "execution_count": null,
   "metadata": {},
   "outputs": [],
   "source": []
  }
 ],
 "metadata": {
  "interpreter": {
   "hash": "8ff90b7467efba29adad4c428f30fc97df3bd261ce7bef875145cebf7b584f4d"
  },
  "kernelspec": {
   "display_name": "Python 3.8.12 ('kaggle')",
   "language": "python",
   "name": "python3"
  },
  "language_info": {
   "codemirror_mode": {
    "name": "ipython",
    "version": 3
   },
   "file_extension": ".py",
   "mimetype": "text/x-python",
   "name": "python",
   "nbconvert_exporter": "python",
   "pygments_lexer": "ipython3",
   "version": "3.8.12"
  },
  "orig_nbformat": 4
 },
 "nbformat": 4,
 "nbformat_minor": 2
}
